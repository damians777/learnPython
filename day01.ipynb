{
 "cells": [
  {
   "cell_type": "code",
   "execution_count": 5,
   "id": "b60d9ab8",
   "metadata": {},
   "outputs": [
    {
     "name": "stdout",
     "output_type": "stream",
     "text": [
      "안녕, 파이썬.\n",
      "만나서 반가워\n"
     ]
    }
   ],
   "source": [
    "# print()는 문자열을 화면에 출력한다.\n",
    "# 주석 : 프로그램의 실행과 상관없이 \n",
    "# 설명문을 작성할 수 있다.\n",
    "print(\"안녕, 파이썬.\")\n",
    "print('만나서 반가워')\n",
    "# 셀에 파이썬 명령어를 입력, 편집후 \n",
    "# 셀 실행방법 1.control + enter : just run cell....\n",
    "# 셀 실행방법 2.shift + enter : \n",
    "#             아래 셀로 (아래에 셀이 없으면 만들고) 이동\n",
    "#셀 실행방법 3.alt +enter : \n",
    "#           아래셀에 상관없이 새로운 셀을 만들고 아래로 이동\n"
   ]
  },
  {
   "cell_type": "code",
   "execution_count": null,
   "id": "c39266d2",
   "metadata": {},
   "outputs": [],
   "source": []
  },
  {
   "cell_type": "code",
   "execution_count": null,
   "id": "ba6246aa",
   "metadata": {},
   "outputs": [],
   "source": [
    "# 불필요한 셀의 삭제 : esc(명령 모드로 변환) + dd\n",
    "# 실행과 상관없이 셀 추가 :\n",
    "# 위에 a(above)\n",
    "# 아래에 b(below)"
   ]
  },
  {
   "cell_type": "code",
   "execution_count": null,
   "id": "231706b2",
   "metadata": {},
   "outputs": [],
   "source": []
  }
 ],
 "metadata": {
  "kernelspec": {
   "display_name": "Python 3",
   "language": "python",
   "name": "python3"
  },
  "language_info": {
   "codemirror_mode": {
    "name": "ipython",
    "version": 3
   },
   "file_extension": ".py",
   "mimetype": "text/x-python",
   "name": "python",
   "nbconvert_exporter": "python",
   "pygments_lexer": "ipython3",
   "version": "3.8.8"
  }
 },
 "nbformat": 4,
 "nbformat_minor": 5
}
