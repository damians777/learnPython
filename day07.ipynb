{
 "cells": [
  {
   "cell_type": "code",
   "execution_count": 1,
   "id": "52cc6a33",
   "metadata": {},
   "outputs": [],
   "source": [
    "# 함수의 정의 \n",
    "# syntax 구문규칙 :\n",
    "# def 함수이름(필요시 인수 리스트 들어가고, 필요없으면 공백) :\n",
    "#     코드블록 (함수의 실행코드가 여러개 들어간다.)\n",
    "#     때에 따라서는 return 문이 들어갈 수 있다.  즉, 결과값이 있을 때 사용한다.\n",
    "# 값을 반환해야 하는 함수 또는 반환할 필요없는 함수가 있다. 반환 불필요 함수는 return 불필요.\n"
   ]
  },
  {
   "cell_type": "code",
   "execution_count": 6,
   "id": "1698a112",
   "metadata": {},
   "outputs": [
    {
     "name": "stdout",
     "output_type": "stream",
     "text": [
      "안녕하세요\n"
     ]
    }
   ],
   "source": [
    "def bh() :                # 함수정의\n",
    "    print(\"안녕하세요\")   # 함수정의\n",
    "\n",
    "bh()   # 함수호출 call"
   ]
  },
  {
   "cell_type": "code",
   "execution_count": 5,
   "id": "37a50bf8",
   "metadata": {},
   "outputs": [
    {
     "name": "stdout",
     "output_type": "stream",
     "text": [
      "안녕하세요\n"
     ]
    }
   ],
   "source": [
    "bh()"
   ]
  },
  {
   "cell_type": "code",
   "execution_count": 10,
   "id": "05c370b2",
   "metadata": {},
   "outputs": [
    {
     "name": "stdout",
     "output_type": "stream",
     "text": [
      "안녕하세요1000원입니다.\n"
     ]
    }
   ],
   "source": [
    "def bh(money) :              \n",
    "    print(\"안녕하세요\" + str(money) + \"원입니다.\")\n",
    "bh(1000)    "
   ]
  },
  {
   "cell_type": "code",
   "execution_count": 15,
   "id": "24309f73",
   "metadata": {},
   "outputs": [
    {
     "name": "stdout",
     "output_type": "stream",
     "text": [
      "안녕하세요1000원입니다.콜라를 사오겠습니다.\n"
     ]
    }
   ],
   "source": [
    "def bh(drink, money) :              \n",
    "    print(\"안녕하세요\" + str(money) + \"원입니다.\" + drink + \"를 사오겠습니다.\")\n",
    "    \n",
    "bh(\"콜라\", 1000)   "
   ]
  },
  {
   "cell_type": "code",
   "execution_count": 26,
   "id": "a0b6d1ab",
   "metadata": {},
   "outputs": [
    {
     "name": "stdout",
     "output_type": "stream",
     "text": [
      "안녕하세요1000원입니다.콜라를 사오겠습니다.\n",
      "2000\n"
     ]
    }
   ],
   "source": [
    "def bh(drink, money) :              \n",
    "    print(\"안녕하세요\" + str(money) + \"원입니다.\" + drink + \"를 사오겠습니다.\")\n",
    "    return money + 1000\n",
    "badmoney =  bh(\"콜라\", 1000)\n",
    "print(badmoney)"
   ]
  },
  {
   "cell_type": "code",
   "execution_count": 27,
   "id": "8dcdb559",
   "metadata": {},
   "outputs": [
    {
     "name": "stdout",
     "output_type": "stream",
     "text": [
      "안녕하세요1000원입니다.콜라를 사오겠습니다.\n",
      "안녕하세요1000원입니다.콜라를 사오겠습니다.\n",
      "2000\n"
     ]
    }
   ],
   "source": [
    "def bh(drink, money) :              \n",
    "    print(\"안녕하세요\" + str(money) + \"원입니다.\" + drink + \"를 사오겠습니다.\")\n",
    "    return money + 1000\n",
    "badmoney =  bh(\"콜라\", 1000)\n",
    "print(bh(\"콜라\", 1000))"
   ]
  },
  {
   "cell_type": "code",
   "execution_count": 30,
   "id": "93dab066",
   "metadata": {},
   "outputs": [
    {
     "name": "stdout",
     "output_type": "stream",
     "text": [
      "안녕하세요1000원입니다.콜라를 사오겠습니다.\n",
      "2000\n"
     ]
    }
   ],
   "source": [
    "def bh(drink, money) :              \n",
    "    print(\"안녕하세요\" + str(money) + \"원입니다.\" + drink + \"를 사오겠습니다.\")\n",
    "    return money + 1000\n",
    "# badmoney =  bh(\"콜라\", 1000)\n",
    "print(bh(money=1000, drink=\"콜라\"))"
   ]
  },
  {
   "cell_type": "code",
   "execution_count": 32,
   "id": "60b1df25",
   "metadata": {},
   "outputs": [
    {
     "name": "stdout",
     "output_type": "stream",
     "text": [
      "안녕하세요1000원입니다.콜라를 사오겠습니다.\n",
      "2000\n"
     ]
    }
   ],
   "source": [
    "#디폴트 기본값 주는 방법\n",
    "def bh(money,drink=\"콜라\") :              \n",
    "    print(\"안녕하세요\" + str(money) + \"원입니다.\" + drink + \"를 사오겠습니다.\")\n",
    "    return money + 1000\n",
    "# badmoney =  bh(\"콜라\", 1000)\n",
    "print(bh(money=1000))  # 값을 넣지 않아도 콜라가 기본값으로 나온다."
   ]
  },
  {
   "cell_type": "code",
   "execution_count": 35,
   "id": "f8484843",
   "metadata": {},
   "outputs": [
    {
     "name": "stdout",
     "output_type": "stream",
     "text": [
      "안녕하세요1000원입니다.사이다를 사오겠습니다.\n",
      "2000\n"
     ]
    }
   ],
   "source": [
    "#디폴트 기본값 주는 방법\n",
    "def bh(money,drink=\"콜라\") :              \n",
    "    print(\"안녕하세요\" + str(money) + \"원입니다.\" + drink + \"를 사오겠습니다.\")\n",
    "    return money + 1000\n",
    "# badmoney =  bh(\"콜라\", 1000)\n",
    "print(bh(money=1000, drink=\"사이다\"))  # 다른 값을 넣으면 그 값이 나온다."
   ]
  },
  {
   "cell_type": "code",
   "execution_count": 36,
   "id": "3b0d7837",
   "metadata": {},
   "outputs": [],
   "source": [
    "# 파이썬에서는 return 값을 콤마를 찍어서 여러번 돌려줄수 있다. 431p"
   ]
  },
  {
   "cell_type": "code",
   "execution_count": 41,
   "id": "d8a0a74d",
   "metadata": {},
   "outputs": [
    {
     "name": "stdout",
     "output_type": "stream",
     "text": [
      "30\n",
      "10\n",
      "200\n"
     ]
    }
   ],
   "source": [
    "def add_sub(a,b) :\n",
    "    return a+b, a-b, a*b\n",
    "s, d, i = add_sub(20, 10)\n",
    "print(s)\n",
    "print(d)\n",
    "print(i)"
   ]
  },
  {
   "cell_type": "code",
   "execution_count": null,
   "id": "7b7e6782",
   "metadata": {},
   "outputs": [],
   "source": []
  }
 ],
 "metadata": {
  "kernelspec": {
   "display_name": "Python 3",
   "language": "python",
   "name": "python3"
  },
  "language_info": {
   "codemirror_mode": {
    "name": "ipython",
    "version": 3
   },
   "file_extension": ".py",
   "mimetype": "text/x-python",
   "name": "python",
   "nbconvert_exporter": "python",
   "pygments_lexer": "ipython3",
   "version": "3.8.8"
  }
 },
 "nbformat": 4,
 "nbformat_minor": 5
}
