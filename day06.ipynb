{
 "cells": [
  {
   "cell_type": "code",
   "execution_count": 7,
   "id": "cf1c0f6d",
   "metadata": {},
   "outputs": [
    {
     "name": "stdout",
     "output_type": "stream",
     "text": [
      "[range(0, 10)]\n"
     ]
    }
   ],
   "source": [
    "a = [range(10)]\n",
    " # print(type(a))\n",
    "print(a)"
   ]
  },
  {
   "cell_type": "code",
   "execution_count": 12,
   "id": "b823bb76",
   "metadata": {},
   "outputs": [
    {
     "name": "stdout",
     "output_type": "stream",
     "text": [
      "[5, 6, 7, 8, 9, 10, 11, 12, 13, 14]\n"
     ]
    }
   ],
   "source": [
    "a = [i+5 for i in range(10)] # 위 range 에서 요소를 모두 꺼낼 수 있다. \n",
    "print(a)"
   ]
  },
  {
   "cell_type": "code",
   "execution_count": 15,
   "id": "c0124c61",
   "metadata": {},
   "outputs": [
    {
     "name": "stdout",
     "output_type": "stream",
     "text": [
      "[0, 2, 4, 6, 8]\n"
     ]
    }
   ],
   "source": [
    "a = [i for i in range(10) if i % 2 ==0 ] \n",
    "print(a)"
   ]
  },
  {
   "cell_type": "code",
   "execution_count": 27,
   "id": "cfe4fe01",
   "metadata": {},
   "outputs": [
    {
     "name": "stdout",
     "output_type": "stream",
     "text": [
      "[1, 2, 3, 4]\n"
     ]
    }
   ],
   "source": [
    "# 실수형으로 구성된 리스트 각 요소를 추출하여 정수형으로 변환하고 정수형 리스트를 구성한다.\n",
    "a = [1.2, 2.5, 3.7, 4.6]\n",
    "for i in range(len(a)) : #1\n",
    "   a[i] = int(a[i])      #2\n",
    "print(a)"
   ]
  },
  {
   "cell_type": "code",
   "execution_count": 25,
   "id": "52a57d28",
   "metadata": {},
   "outputs": [
    {
     "name": "stdout",
     "output_type": "stream",
     "text": [
      "[1, 2, 3, 4]\n"
     ]
    }
   ],
   "source": [
    "a = [1.2, 2.5, 3.7, 4.6]\n",
    "a = list(map(int, a))  # < 위 #1,2를 이렇게 한줄로 줄일 수 있다는 것에 의미가 있다. 간단하게 동일하게 구성 가능.\n",
    "print(a)"
   ]
  },
  {
   "cell_type": "code",
   "execution_count": null,
   "id": "26858261",
   "metadata": {},
   "outputs": [],
   "source": [
    "# input().split(), map\n",
    "a = map(int, input(\"여러개의 숫자를 입력.\").split())\n",
    "print(list(a))"
   ]
  },
  {
   "cell_type": "code",
   "execution_count": null,
   "id": "9bd24f78",
   "metadata": {},
   "outputs": [],
   "source": [
    "a = [[10,20],[30,40],[50,60]]\n",
    "for x, y in a :\n",
    "    print(x,y)"
   ]
  },
  {
   "cell_type": "code",
   "execution_count": 20,
   "id": "543431c3",
   "metadata": {},
   "outputs": [
    {
     "name": "stdout",
     "output_type": "stream",
     "text": [
      "10 20 \n",
      "30 40 \n",
      "50 60 \n"
     ]
    }
   ],
   "source": [
    "a = [[10,20],[30,40],[50,60]]\n",
    "for i in a :\n",
    "    for j in i :\n",
    "        print(j, end=' ')\n",
    "    print()"
   ]
  },
  {
   "cell_type": "code",
   "execution_count": 35,
   "id": "cfdca987",
   "metadata": {},
   "outputs": [
    {
     "name": "stdout",
     "output_type": "stream",
     "text": [
      "{'a': 10, 'b': 20, 'c': 30, 'd': 40}\n",
      "{'a': 10, 'b': 20, 'c': 30, 'd': 40, 'e': 50}\n"
     ]
    }
   ],
   "source": [
    "# 딕셔너리 응용\n",
    "x ={'a':10, 'b':20, 'c':30, 'd':40}\n",
    "print(x)\n",
    "x.setdefault('e',50)  # 새로운 값은 setdefault . 수정 및 새로운 값 추가는 update\n",
    "print(x)"
   ]
  },
  {
   "cell_type": "code",
   "execution_count": 38,
   "id": "4b3608df",
   "metadata": {},
   "outputs": [
    {
     "name": "stdout",
     "output_type": "stream",
     "text": [
      "{'a': 10, 'b': 20, 'c': 30, 'd': 40, 'e': 50, 'g': 70}\n"
     ]
    }
   ],
   "source": [
    "# 키만 명시 하면 값이 없다는 의미로 값에 None 으로 저장한다.\n",
    "# update에 키 값이 같은게 있으면 반영이 안되고, 값이 바뀌게 하면 값은 바뀐 값으로 반영된다.\n",
    "# x.setdefalt('f')\n",
    "x.update(g=70)\n",
    "print(x)"
   ]
  },
  {
   "cell_type": "code",
   "execution_count": 47,
   "id": "669b9e09",
   "metadata": {},
   "outputs": [
    {
     "ename": "KeyError",
     "evalue": "'a'",
     "output_type": "error",
     "traceback": [
      "\u001b[1;31m---------------------------------------------------------------------------\u001b[0m",
      "\u001b[1;31mKeyError\u001b[0m                                  Traceback (most recent call last)",
      "\u001b[1;32m<ipython-input-47-1f1ff4cb20b9>\u001b[0m in \u001b[0;36m<module>\u001b[1;34m\u001b[0m\n\u001b[1;32m----> 1\u001b[1;33m \u001b[0mx\u001b[0m\u001b[1;33m.\u001b[0m\u001b[0mpop\u001b[0m\u001b[1;33m(\u001b[0m\u001b[1;34m'a'\u001b[0m\u001b[1;33m)\u001b[0m\u001b[1;33m\u001b[0m\u001b[1;33m\u001b[0m\u001b[0m\n\u001b[0m\u001b[0;32m      2\u001b[0m \u001b[0mprint\u001b[0m\u001b[1;33m(\u001b[0m\u001b[0mx\u001b[0m\u001b[1;33m)\u001b[0m\u001b[1;33m\u001b[0m\u001b[1;33m\u001b[0m\u001b[0m\n",
      "\u001b[1;31mKeyError\u001b[0m: 'a'"
     ]
    }
   ],
   "source": [
    "x.pop('a')\n",
    "print(x)"
   ]
  },
  {
   "cell_type": "code",
   "execution_count": 56,
   "id": "3c9b8dfc",
   "metadata": {},
   "outputs": [
    {
     "name": "stdout",
     "output_type": "stream",
     "text": [
      "{'a': 10, 'b': 20, 'c': 30, 'd': 40}\n",
      "{'a': 10, 'b': 20, 'c': 30, 'd': 40, 'e': 50}\n"
     ]
    }
   ],
   "source": [
    "x ={'a':10, 'b':20, 'c':30, 'd':40}\n",
    "print(x)\n",
    "x ={'a':10, 'b':20, 'c':30, 'd':40, 'e':50}\n",
    "print(x)"
   ]
  },
  {
   "cell_type": "code",
   "execution_count": 58,
   "id": "0948feea",
   "metadata": {},
   "outputs": [
    {
     "name": "stdout",
     "output_type": "stream",
     "text": [
      "{'a': 10, 'b': 20, 'c': 30, 'd': 40, 'e': 50}\n"
     ]
    }
   ],
   "source": [
    "print(x)"
   ]
  },
  {
   "cell_type": "code",
   "execution_count": 62,
   "id": "8bc3cf53",
   "metadata": {},
   "outputs": [
    {
     "ename": "KeyError",
     "evalue": "'a'",
     "output_type": "error",
     "traceback": [
      "\u001b[1;31m---------------------------------------------------------------------------\u001b[0m",
      "\u001b[1;31mKeyError\u001b[0m                                  Traceback (most recent call last)",
      "\u001b[1;32m<ipython-input-62-7884dfa72ba7>\u001b[0m in \u001b[0;36m<module>\u001b[1;34m\u001b[0m\n\u001b[1;32m----> 1\u001b[1;33m \u001b[0mx\u001b[0m\u001b[1;33m.\u001b[0m\u001b[0mpop\u001b[0m\u001b[1;33m(\u001b[0m\u001b[1;34m'a'\u001b[0m\u001b[1;33m)\u001b[0m\u001b[1;33m\u001b[0m\u001b[1;33m\u001b[0m\u001b[0m\n\u001b[0m",
      "\u001b[1;31mKeyError\u001b[0m: 'a'"
     ]
    }
   ],
   "source": [
    "x.pop('a')"
   ]
  },
  {
   "cell_type": "code",
   "execution_count": 65,
   "id": "fa34267f",
   "metadata": {},
   "outputs": [
    {
     "name": "stdout",
     "output_type": "stream",
     "text": [
      "{'b': 20, 'c': 30, 'd': 40, 'e': 50}\n"
     ]
    }
   ],
   "source": [
    "print(x)"
   ]
  },
  {
   "cell_type": "code",
   "execution_count": 77,
   "id": "fa216d70",
   "metadata": {},
   "outputs": [
    {
     "data": {
      "text/plain": [
       "0"
      ]
     },
     "execution_count": 77,
     "metadata": {},
     "output_type": "execute_result"
    }
   ],
   "source": [
    "x.pop('z',0)"
   ]
  },
  {
   "cell_type": "code",
   "execution_count": 70,
   "id": "ed54f1ba",
   "metadata": {},
   "outputs": [
    {
     "name": "stdout",
     "output_type": "stream",
     "text": [
      "{'a': 100, 'b': 100, 'c': 100, 'd': 100}\n"
     ]
    }
   ],
   "source": [
    "# 리스트와 튜플로 딕셔너리 만들기, p363\n",
    "\n",
    "keys =['a', 'b', 'c', 'd']\n",
    "x = dict.fromkeys(keys, 100)    # 키값으로부터 딕셔너리를 만들라는 메서드\n",
    "print(x)"
   ]
  },
  {
   "cell_type": "code",
   "execution_count": 75,
   "id": "bdcdf965",
   "metadata": {},
   "outputs": [
    {
     "name": "stdout",
     "output_type": "stream",
     "text": [
      "{'a': [10, 20, 30, 40], 'b': [10, 20, 30, 40], 'c': [10, 20, 30, 40], 'd': [10, 20, 30, 40]}\n"
     ]
    }
   ],
   "source": [
    "keys =['a', 'b', 'c', 'd']\n",
    "values =[10, 20, 30, 40]\n",
    "x = dict.fromkeys(keys, values)   #프롬키스는 값은 한개의 값만 키에 대입이 가능하다. 각각으로 주어지지 않는다.\n",
    "print(x)"
   ]
  },
  {
   "cell_type": "code",
   "execution_count": 81,
   "id": "1d460408",
   "metadata": {},
   "outputs": [
    {
     "name": "stdout",
     "output_type": "stream",
     "text": [
      "{1, 2, 3, 4, 5, 6}\n"
     ]
    }
   ],
   "source": [
    "a = {1,2,3,4}\n",
    "b = {3,4,5,6}\n",
    "x= a|b     # 기호로도 쓸 수 있다.\n",
    "print(x)"
   ]
  },
  {
   "cell_type": "code",
   "execution_count": 90,
   "id": "d4c4e542",
   "metadata": {},
   "outputs": [
    {
     "name": "stdout",
     "output_type": "stream",
     "text": [
      "{1, 2, 3, 4, 5, 6}\n",
      "{3, 4}\n",
      "{1, 2}\n",
      "{5, 6}\n",
      "{1, 2, 3, 4, 7}\n"
     ]
    }
   ],
   "source": [
    "a = {1,2,3,4}\n",
    "b = {3,4,5,6}\n",
    "\n",
    "print(a.union(b)) # set.union(a,b)  와 같다. 다음 내용도 책에 있는 메서드 대신 print로 사용하는 방법.\n",
    "print(a.intersection(b)) \n",
    "print(a.difference(b))\n",
    "print(b.difference(a))\n",
    "a.add(7)\n",
    "print(a)"
   ]
  },
  {
   "cell_type": "code",
   "execution_count": 92,
   "id": "e259cf89",
   "metadata": {},
   "outputs": [],
   "source": [
    "# 파일 사용하기\n",
    "# 파일에 문자열 쓰기\n",
    "# 오픈 > 쓰기 > 닫기\n",
    "# 파일객체 = open(파일이름, 파일모드) # 읽기모드인지 쓰기모드인지 등의 상세한 정보를 표현한 것을 파일모드라고 함.\n",
    "# 문자열 = 파일객체.read()\n",
    "# 파일객체.write(쓰고싶은 문자열)\n",
    "# 파일객체.close()"
   ]
  },
  {
   "cell_type": "code",
   "execution_count": 100,
   "id": "3195d695",
   "metadata": {},
   "outputs": [
    {
     "name": "stdout",
     "output_type": "stream",
     "text": [
      "aaaaa\n"
     ]
    }
   ],
   "source": [
    "infile = open('hello.txt', 'r')  # 읽기모드 r, 쓰기 모드 w  infile 입력용. outfile 출력용.\n",
    "s = infile.read()\n",
    "print(s)\n",
    "infile.close()"
   ]
  },
  {
   "cell_type": "code",
   "execution_count": 102,
   "id": "b2f88f12",
   "metadata": {},
   "outputs": [],
   "source": [
    "outfile = open('hello2.txt', 'w')     #한글로 핸들링했을 때 ,  encoding=\"utf-8\" 을 괄호 안에 , 찍고 넣음.\n",
    "s = \"asdf asdf asdf\"\n",
    "outfile.write(s)\n",
    "outfile.close() "
   ]
  },
  {
   "cell_type": "code",
   "execution_count": 107,
   "id": "a3f15a80",
   "metadata": {},
   "outputs": [],
   "source": [
    "outfile = open('hello2.txt', 'a', encoding=\"utf-8\")   # 같은 이름으로 저장하면, 덮어 쓰기 됨. overwrite\n",
    "                                                    # 따라서 a로 해야 내용이 추가된다.\n",
    "s = \"ㅋㅌㅊㅍ ㅋㅍㅊㅌ ㅋㅍㅊㅋㅍ\"\n",
    "outfile.write(s)\n",
    "outfile.close()   # 사용하고 나면 리소스를 사용하지 않기 위해 반납한다.\n",
    "\n",
    "# 근데 이렇게 일일히 닫는건 불편하니까 with as 사용한다."
   ]
  },
  {
   "cell_type": "code",
   "execution_count": 108,
   "id": "e88e9348",
   "metadata": {},
   "outputs": [
    {
     "name": "stdout",
     "output_type": "stream",
     "text": [
      "asdf asdf asdfㅋㅌㅊㅍ ㅋㅍㅊㅌ ㅋㅍㅊㅋㅍㅋㅌㅊㅍ ㅋㅍㅊㅌ ㅋㅍㅊㅋㅍㅋㅌㅊㅍ ㅋㅍㅊㅌ ㅋㅍㅊㅋㅍ\n"
     ]
    }
   ],
   "source": [
    "with open('hello2.txt', 'r', encoding=\"utf-8\") as infile :\n",
    "    s = infile.read()\n",
    "    print(s)"
   ]
  },
  {
   "cell_type": "code",
   "execution_count": 119,
   "id": "5b6e968a",
   "metadata": {},
   "outputs": [
    {
     "name": "stdout",
     "output_type": "stream",
     "text": [
      "프로그램 종료\n"
     ]
    }
   ],
   "source": [
    "lines = ['안녕하세요.\\n', '파이썬입니다.\\n', '한국아이티전문.\\n']\n",
    "with open('hello3.txt', 'w', encoding=\"utf-8\") as outfile :\n",
    "    outfile.writelines(lines)\n",
    "print('프로그램 종료')    "
   ]
  },
  {
   "cell_type": "code",
   "execution_count": 121,
   "id": "4eceb78d",
   "metadata": {},
   "outputs": [
    {
     "name": "stdout",
     "output_type": "stream",
     "text": [
      "안녕하세요.\n",
      "파이썬입니다.\n",
      "한국아이티전문.\n",
      "프로그램 종료\n"
     ]
    }
   ],
   "source": [
    "with open('hello3.txt', 'r', encoding=\"utf-8\") as infile :\n",
    "    lines = infile.readlines()\n",
    "for line in lines :\n",
    "    print(line.strip('\\n'))\n",
    "print('프로그램 종료')    "
   ]
  },
  {
   "cell_type": "code",
   "execution_count": 127,
   "id": "27dfbdbf",
   "metadata": {},
   "outputs": [],
   "source": [
    "import pickle\n",
    "\n",
    "name = 'james'\n",
    "age = 17\n",
    "address = 'chungju'\n",
    "scores = {'korea' : 100, 'english':95, 'math':85}\n",
    "with open('james.p', 'wb') as outfile :\n",
    "    pickle.dump(name, outfile)\n",
    "    pickle.dump(age, outfile)\n",
    "    pickle.dump(address, outfile)\n",
    "    pickle.dump(scores, outfile)     #dump는 txt 모드가 안된다. 따라서 바이너리 모드 p 로 해야한다.\n",
    "    \n",
    "    # 문자열이 아닌 객체를 핸들링 하는 법을 사용한것."
   ]
  },
  {
   "cell_type": "code",
   "execution_count": null,
   "id": "96482609",
   "metadata": {},
   "outputs": [],
   "source": [
    "import pickle\n",
    "with open('james.p', 'rb') as outfile :\n",
    "    name = 'james'\n",
    "    age = 17\n",
    "    address = 'chungju'\n",
    "    scores = {'korea' : 100, 'english':95, 'math':85}    \n",
    "      \n",
    "    pickle.load(infile)\n",
    "    pickle.load(infile)\n",
    "    pickle.load(infile)\n",
    "    pickle.load(infile)"
   ]
  }
 ],
 "metadata": {
  "kernelspec": {
   "display_name": "Python 3",
   "language": "python",
   "name": "python3"
  },
  "language_info": {
   "codemirror_mode": {
    "name": "ipython",
    "version": 3
   },
   "file_extension": ".py",
   "mimetype": "text/x-python",
   "name": "python",
   "nbconvert_exporter": "python",
   "pygments_lexer": "ipython3",
   "version": "3.8.8"
  }
 },
 "nbformat": 4,
 "nbformat_minor": 5
}
