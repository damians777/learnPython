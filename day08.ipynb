{
 "cells": [
  {
   "cell_type": "code",
   "execution_count": null,
   "id": "b671a7dd",
   "metadata": {},
   "outputs": [],
   "source": []
  },
  {
   "cell_type": "code",
   "execution_count": 31,
   "id": "424108b0",
   "metadata": {},
   "outputs": [],
   "source": [
    "# 클래스의 인스턴스 속성 정의\n",
    "# class 클래스 이름 :\n",
    "#        def__생성자() :\n",
    "#            속성 =\n",
    "\n",
    "# 즉, 객체만 다시 사용할수 있는 변수\n",
    "            \n",
    "# 클래스의 클래스 속성 정의 - 클래스만 정의되면 사용되는게 클래스 속성임.\n",
    "# def class 클래스 이름 :\n",
    "#    속성 =\n",
    "#    def__속성()          \n",
    "#        속성 =\n",
    "\n",
    "# 즉, 모든 객체들이 공동으로 사용할 수 있는 속성"
   ]
  },
  {
   "cell_type": "code",
   "execution_count": 36,
   "id": "ad3d7bdc",
   "metadata": {},
   "outputs": [
    {
     "name": "stdout",
     "output_type": "stream",
     "text": [
      "제임스의 가방 :  ['책', '열쇠']\n",
      "제임스의 가방 :  ['책', '열쇠']\n"
     ]
    }
   ],
   "source": [
    "# Person class 정의\n",
    "class Person :\n",
    "    bag =[]      \n",
    "    def put_bag(self, stuff) :     # put_bag은 임의로 만든 함수명임.\n",
    "        self.bag.append(stuff)   #여기서 bag은 위의 위 bag 리스트에 대한 것이다.  # bag은 클래스 속성. 리스트임.\n",
    "        \n",
    "# Person class의 객체 생성 instantiate\n",
    "james = Person()\n",
    "maria = Person()\n",
    "\n",
    "# 각 객체의 메서드 호출, 각자의 가방에 물건을 넣는다.\n",
    "james.put_bag(\"책\")\n",
    "maria.put_bag(\"열쇠\")\n",
    "\n",
    "#print를 통해 확인해 봄.\n",
    "print(\"제임스의 가방 : \" , james.bag)\n",
    "print(\"제임스의 가방 : \" ,  maria.bag)\n"
   ]
  },
  {
   "cell_type": "code",
   "execution_count": 38,
   "id": "279e9a77",
   "metadata": {},
   "outputs": [
    {
     "name": "stdout",
     "output_type": "stream",
     "text": [
      "제임스의 가방 :  ['책', '열쇠', '책', '열쇠', '책', '열쇠']\n",
      "제임스의 가방 :  ['책', '열쇠', '책', '열쇠', '책', '열쇠']\n"
     ]
    }
   ],
   "source": [
    "# Person class 정의\n",
    "class Person2 :\n",
    "    def __init__(self) :\n",
    "        self.bag =[]       # 여기서 bag은 인스턴스 속성\n",
    " \n",
    "    def put_bag(self, stuff) :\n",
    "        self.bag.append(stuff)     \n",
    "        \n",
    "# Person class의 객체 생성 instantiate\n",
    "james = Person()\n",
    "maria = Person()\n",
    "\n",
    "# 각 객체의 메서드 호출, 각자의 가방에 물건을 넣는다.\n",
    "james.put_bag(\"책\")\n",
    "maria.put_bag(\"열쇠\")\n",
    "\n",
    "#print를 통해 확인해 봄.\n",
    "print(\"제임스의 가방 : \" , james.bag)\n",
    "print(\"제임스의 가방 : \" ,  maria.bag)"
   ]
  },
  {
   "cell_type": "code",
   "execution_count": 2,
   "id": "8f7e41fa",
   "metadata": {},
   "outputs": [
    {
     "name": "stdout",
     "output_type": "stream",
     "text": [
      "id :  1001 name:  홍길동\n"
     ]
    }
   ],
   "source": [
    "# 클래스 속성 활용 예\n",
    "# 학생 클래스를 생성하여, 학번을 1씩 증가하며 자동부여가 되도록.\n",
    "\n",
    "class Student :\n",
    "    idcnt = 1000 # 클래스 속성\n",
    "    def __init__(self, name) :\n",
    "        self.idcnt += 1\n",
    "        self.id = self.idcnt\n",
    "        self.name = name\n",
    "    def showinfo(self) :\n",
    "        print(\"id : \", self.id, \"name: \", self.name)\n",
    "         # 클래스 안에서 자기 속성을 규정할땐 자기 속성값 표현하기 위해선 꼭 self.을 꼭 붙여준다.\n",
    "        \n",
    "hong = Student(\"홍길동\")\n",
    "hong.showinfo()\n"
   ]
  },
  {
   "cell_type": "code",
   "execution_count": 7,
   "id": "3a97aa97",
   "metadata": {},
   "outputs": [
    {
     "name": "stdout",
     "output_type": "stream",
     "text": [
      "id :  1001 name:  홍길동\n",
      "id :  1002 name:  박문수\n"
     ]
    }
   ],
   "source": [
    "class Student :\n",
    "    idcnt = 1000 # 클래스 속성 -  객체가 없도도 생성되고 의미가 있다.\n",
    "    def __init__(self, name) :\n",
    "       \n",
    "        Student.idcnt += 1     #  self를 쓰면 객체적인 의미가 된다. 클래스 변수를 표현하기 위해 student 클래스 변수를 넣어야 함.\n",
    "        self.id = Student.idcnt\n",
    "        self.name = name         #여기까지 객체 생성자.\n",
    "    def showinfo(self) :\n",
    "        print(\"id : \", self.id, \"name: \", self.name)\n",
    "         # 클래스 안에서 자기 속성을 규정할땐 자기 속성값 표현하기 위해선 꼭 self.을 꼭 붙여준다.\n",
    "        \n",
    "hong = Student(\"홍길동\")\n",
    "hong.showinfo()\n",
    "park =Student(\"박문수\")\n",
    "park.showinfo()\n",
    "\n",
    "#  1001이 첫번째 객체 , 1002는 두번째 객체가 된다. 만약 이름을 따로 돌리면 (리스타트 안 시키고) 1003으로 "
   ]
  },
  {
   "cell_type": "code",
   "execution_count": null,
   "id": "3e754d86",
   "metadata": {},
   "outputs": [],
   "source": []
  }
 ],
 "metadata": {
  "kernelspec": {
   "display_name": "Python 3",
   "language": "python",
   "name": "python3"
  },
  "language_info": {
   "codemirror_mode": {
    "name": "ipython",
    "version": 3
   },
   "file_extension": ".py",
   "mimetype": "text/x-python",
   "name": "python",
   "nbconvert_exporter": "python",
   "pygments_lexer": "ipython3",
   "version": "3.8.8"
  }
 },
 "nbformat": 4,
 "nbformat_minor": 5
}
