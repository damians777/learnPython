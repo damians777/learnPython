{
 "cells": [
  {
   "cell_type": "code",
   "execution_count": null,
   "id": "4b248643",
   "metadata": {},
   "outputs": [],
   "source": []
  },
  {
   "cell_type": "code",
   "execution_count": 31,
   "id": "907bfb54",
   "metadata": {},
   "outputs": [],
   "source": [
    "# 클래스의 인스턴스 속성 정의\n",
    "# class 클래스 이름 :\n",
    "#        def__생성자() :\n",
    "#            속성 =\n",
    "\n",
    "# 즉, 객체만 다시 사용할수 있는 변수\n",
    "            \n",
    "# 클래스의 클래스 속성 정의 - 클래스만 정의되면 사용되는게 클래스 속성임.\n",
    "# def class 클래스 이름 :\n",
    "#    속성 =\n",
    "#    def__속성()          \n",
    "#        속성 =\n",
    "\n",
    "# 즉, 모든 객체들이 공동으로 사용할 수 있는 속성"
   ]
  },
  {
   "cell_type": "code",
   "execution_count": 36,
   "id": "d5a50364",
   "metadata": {},
   "outputs": [
    {
     "name": "stdout",
     "output_type": "stream",
     "text": [
      "제임스의 가방 :  ['책', '열쇠']\n",
      "제임스의 가방 :  ['책', '열쇠']\n"
     ]
    }
   ],
   "source": [
    "# Person class 정의\n",
    "class Person :\n",
    "    bag =[]      \n",
    "    def put_bag(self, stuff) :     # put_bag은 임의로 만든 함수명임.\n",
    "        self.bag.append(stuff)   #여기서 bag은 위의 위 bag 리스트에 대한 것이다.  # bag은 클래스 속성. 리스트임.\n",
    "        \n",
    "# Person class의 객체 생성 instantiate\n",
    "james = Person()\n",
    "maria = Person()\n",
    "\n",
    "# 각 객체의 메서드 호출, 각자의 가방에 물건을 넣는다.\n",
    "james.put_bag(\"책\")\n",
    "maria.put_bag(\"열쇠\")\n",
    "\n",
    "#print를 통해 확인해 봄.\n",
    "print(\"제임스의 가방 : \" , james.bag)\n",
    "print(\"제임스의 가방 : \" ,  maria.bag)\n"
   ]
  },
  {
   "cell_type": "code",
   "execution_count": 8,
   "id": "d7bdb540",
   "metadata": {},
   "outputs": [
    {
     "name": "stdout",
     "output_type": "stream",
     "text": [
      "제임스의 가방 :  ['책']\n",
      "제임스의 가방 :  ['열쇠']\n"
     ]
    }
   ],
   "source": [
    "# Person class 정의\n",
    "class Person2 :\n",
    "    def __init__(self) :\n",
    "        self.bag =[]       # 여기서 bag은 인스턴스 속성\n",
    " \n",
    "    def put_bag(self, stuff) :\n",
    "        self.bag.append(stuff)     \n",
    "        \n",
    "# Person class의 객체 생성 instantiate\n",
    "james = Person2()\n",
    "maria = Person2()\n",
    "\n",
    "# 각 객체의 메서드 호출, 각자의 가방에 물건을 넣는다.\n",
    "james.put_bag(\"책\")\n",
    "maria.put_bag(\"열쇠\")\n",
    "\n",
    "#print를 통해 확인해 봄.\n",
    "print(\"제임스의 가방 : \" , james.bag)\n",
    "print(\"제임스의 가방 : \" ,  maria.bag)"
   ]
  },
  {
   "cell_type": "code",
   "execution_count": 2,
   "id": "c3c1c3b3",
   "metadata": {},
   "outputs": [
    {
     "name": "stdout",
     "output_type": "stream",
     "text": [
      "id :  1001 name:  홍길동\n"
     ]
    }
   ],
   "source": [
    "# 클래스 속성 활용 예\n",
    "# 학생 클래스를 생성하여, 학번을 1씩 증가하며 자동부여가 되도록.\n",
    "\n",
    "class Student :\n",
    "    idcnt = 1000 # 클래스 속성\n",
    "    def __init__(self, name) :\n",
    "        self.idcnt += 1\n",
    "        self.id = self.idcnt\n",
    "        self.name = name\n",
    "    def showinfo(self) :\n",
    "        print(\"id : \", self.id, \"name: \", self.name)\n",
    "         # 클래스 안에서 자기 속성을 규정할땐 자기 속성값 표현하기 위해선 꼭 self.을 꼭 붙여준다.\n",
    "        \n",
    "hong = Student(\"홍길동\")\n",
    "hong.showinfo()\n"
   ]
  },
  {
   "cell_type": "code",
   "execution_count": null,
   "id": "07255d06",
   "metadata": {},
   "outputs": [],
   "source": [
    "class Student :\n",
    "    idcnt = 1000 # 클래스 속성 -  객체가 없도도 생성되고 의미가 있다.\n",
    "    def __init__(self, name) :\n",
    "       \n",
    "        Student.idcnt += 1     #  self를 쓰면 객체적인 의미가 된다. 클래스 변수를 표현하기 위해 student 클래스 변수를 넣어야 함.\n",
    "        self.id = Student.idcnt\n",
    "        self.name = name         #여기까지 객체 생성자.\n",
    "    def showinfo(self) :\n",
    "        print(\"id : \", self.id, \"name: \", self.name)\n",
    "         # 클래스 안에서 자기 속성을 규정할땐 자기 속성값 표현하기 위해선 꼭 self.을 꼭 붙여준다.\n",
    "      "
   ]
  },
  {
   "cell_type": "code",
   "execution_count": 17,
   "id": "868dc917",
   "metadata": {},
   "outputs": [
    {
     "name": "stdout",
     "output_type": "stream",
     "text": [
      "id :  1001 name:  홍길동\n",
      "id :  1002 name:  박문수\n"
     ]
    }
   ],
   "source": [
    "        \n",
    "hong = Student(\"홍길동\")\n",
    "hong.showinfo()\n",
    "park =Student(\"박문수\")\n",
    "park.showinfo()\n",
    "\n",
    "#  1001이 첫번째 객체 , 1002는 두번째 객체가 된다. 만약 이렇게 셀을 나눠서 따로 돌리면 (리스타트 안 시키고) 1003으로 1004로 시작한다."
   ]
  },
  {
   "cell_type": "code",
   "execution_count": null,
   "id": "4db47e3a",
   "metadata": {},
   "outputs": [],
   "source": [
    "# 다음은 클래스 메서드 사용하는 방법임."
   ]
  },
  {
   "cell_type": "code",
   "execution_count": 16,
   "id": "8998517e",
   "metadata": {},
   "outputs": [],
   "source": [
    "class Student :\n",
    "    idcnt = 1000 # 클래스 속성 -  객체가 없도도 생성되고 의미가 있다.\n",
    "    def __init__(self, name) :\n",
    "       \n",
    "        Student.idcnt += 1     #  self를 쓰면 객체적인 의미가 된다. 클래스 변수를 표현하기 위해 student 클래스 변수를 넣어야 함.\n",
    "        self.id = Student.idcnt\n",
    "        self.name = name         #여기까지 객체 생성자.\n",
    "    def showinfo(self) :\n",
    "        print(\"id : \", self.id, \"name: \", self.name)\n",
    "         # 클래스 안에서 자기 속성을 규정할땐 자기 속성값 표현하기 위해선 꼭 self.을 꼭 붙여준다.\n",
    "            \n",
    "    @classmathod\n",
    "    def print_idcount(cls) :\n",
    "        print('공통변수 idcnt = {0}' .format(cls.idcnt))"
   ]
  },
  {
   "cell_type": "code",
   "execution_count": 20,
   "id": "c40cc028",
   "metadata": {},
   "outputs": [
    {
     "ename": "AttributeError",
     "evalue": "type object 'Student' has no attribute 'print_idcount'",
     "output_type": "error",
     "traceback": [
      "\u001b[1;31m---------------------------------------------------------------------------\u001b[0m",
      "\u001b[1;31mAttributeError\u001b[0m                            Traceback (most recent call last)",
      "\u001b[1;32m<ipython-input-20-8691e6d01972>\u001b[0m in \u001b[0;36m<module>\u001b[1;34m\u001b[0m\n\u001b[1;32m----> 1\u001b[1;33m \u001b[0mStudent\u001b[0m\u001b[1;33m.\u001b[0m\u001b[0mprint_idcount\u001b[0m\u001b[1;33m(\u001b[0m\u001b[1;33m)\u001b[0m\u001b[1;33m\u001b[0m\u001b[1;33m\u001b[0m\u001b[0m\n\u001b[0m\u001b[0;32m      2\u001b[0m \u001b[0mhong\u001b[0m \u001b[1;33m=\u001b[0m \u001b[0mStudent\u001b[0m\u001b[1;33m(\u001b[0m\u001b[1;34m\"홍길동\"\u001b[0m\u001b[1;33m)\u001b[0m\u001b[1;33m\u001b[0m\u001b[1;33m\u001b[0m\u001b[0m\n\u001b[0;32m      3\u001b[0m \u001b[0mStudent\u001b[0m\u001b[1;33m.\u001b[0m\u001b[0mprint_idcount\u001b[0m\u001b[1;33m(\u001b[0m\u001b[1;33m)\u001b[0m\u001b[1;33m\u001b[0m\u001b[1;33m\u001b[0m\u001b[0m\n\u001b[0;32m      4\u001b[0m \u001b[0mhong\u001b[0m\u001b[1;33m.\u001b[0m\u001b[0mshowinfo\u001b[0m\u001b[1;33m(\u001b[0m\u001b[1;33m)\u001b[0m\u001b[1;33m\u001b[0m\u001b[1;33m\u001b[0m\u001b[0m\n",
      "\u001b[1;31mAttributeError\u001b[0m: type object 'Student' has no attribute 'print_idcount'"
     ]
    }
   ],
   "source": [
    "Student.print_idcount()\n",
    "hong = Student(\"홍길동\")\n",
    "Student.print_idcount()\n",
    "hong.showinfo()\n"
   ]
  },
  {
   "cell_type": "code",
   "execution_count": 21,
   "id": "6b06855f",
   "metadata": {},
   "outputs": [
    {
     "ename": "AttributeError",
     "evalue": "type object 'Student' has no attribute 'print_idcount'",
     "output_type": "error",
     "traceback": [
      "\u001b[1;31m---------------------------------------------------------------------------\u001b[0m",
      "\u001b[1;31mAttributeError\u001b[0m                            Traceback (most recent call last)",
      "\u001b[1;32m<ipython-input-21-0b9ee98dfbda>\u001b[0m in \u001b[0;36m<module>\u001b[1;34m\u001b[0m\n\u001b[0;32m      1\u001b[0m \u001b[0mpark\u001b[0m \u001b[1;33m=\u001b[0m\u001b[0mStudent\u001b[0m\u001b[1;33m(\u001b[0m\u001b[1;34m\"박문수\"\u001b[0m\u001b[1;33m)\u001b[0m\u001b[1;33m\u001b[0m\u001b[1;33m\u001b[0m\u001b[0m\n\u001b[1;32m----> 2\u001b[1;33m \u001b[0mStudent\u001b[0m\u001b[1;33m.\u001b[0m\u001b[0mprint_idcount\u001b[0m\u001b[1;33m(\u001b[0m\u001b[1;33m)\u001b[0m\u001b[1;33m\u001b[0m\u001b[1;33m\u001b[0m\u001b[0m\n\u001b[0m\u001b[0;32m      3\u001b[0m \u001b[0mpark\u001b[0m\u001b[1;33m.\u001b[0m\u001b[0mshowinfo\u001b[0m\u001b[1;33m(\u001b[0m\u001b[1;33m)\u001b[0m\u001b[1;33m\u001b[0m\u001b[1;33m\u001b[0m\u001b[0m\n",
      "\u001b[1;31mAttributeError\u001b[0m: type object 'Student' has no attribute 'print_idcount'"
     ]
    }
   ],
   "source": [
    "park =Student(\"박문수\")\n",
    "Student.print_idcount()\n",
    "park.showinfo()"
   ]
  },
  {
   "cell_type": "code",
   "execution_count": 23,
   "id": "8418c88e",
   "metadata": {},
   "outputs": [
    {
     "name": "stdout",
     "output_type": "stream",
     "text": [
      "1005\n"
     ]
    }
   ],
   "source": [
    "# idcnt 를 자기자신의 변수로 쓸수 없다.\n",
    "\n",
    "print(hong.idcnt)\n"
   ]
  },
  {
   "cell_type": "code",
   "execution_count": 26,
   "id": "33d41928",
   "metadata": {},
   "outputs": [
    {
     "name": "stdout",
     "output_type": "stream",
     "text": [
      "1005\n"
     ]
    }
   ],
   "source": [
    "print(park.idcnt)"
   ]
  },
  {
   "cell_type": "code",
   "execution_count": 29,
   "id": "e1a63ea2",
   "metadata": {},
   "outputs": [],
   "source": [
    "park.idcnt = hong.idcnt + 100"
   ]
  },
  {
   "cell_type": "code",
   "execution_count": 31,
   "id": "4df85d3c",
   "metadata": {},
   "outputs": [
    {
     "name": "stdout",
     "output_type": "stream",
     "text": [
      "1005\n"
     ]
    }
   ],
   "source": [
    "print(hong.idcnt)"
   ]
  },
  {
   "cell_type": "code",
   "execution_count": 33,
   "id": "c3bdb960",
   "metadata": {},
   "outputs": [
    {
     "name": "stdout",
     "output_type": "stream",
     "text": [
      "1105\n"
     ]
    }
   ],
   "source": [
    "print(park.idcnt)"
   ]
  },
  {
   "cell_type": "code",
   "execution_count": 36,
   "id": "172b6e1f",
   "metadata": {},
   "outputs": [
    {
     "ename": "AttributeError",
     "evalue": "type object 'Student' has no attribute 'print_idcount'",
     "output_type": "error",
     "traceback": [
      "\u001b[1;31m---------------------------------------------------------------------------\u001b[0m",
      "\u001b[1;31mAttributeError\u001b[0m                            Traceback (most recent call last)",
      "\u001b[1;32m<ipython-input-36-53c670bfd58d>\u001b[0m in \u001b[0;36m<module>\u001b[1;34m\u001b[0m\n\u001b[1;32m----> 1\u001b[1;33m \u001b[0mStudent\u001b[0m\u001b[1;33m.\u001b[0m\u001b[0mprint_idcount\u001b[0m\u001b[1;33m(\u001b[0m\u001b[1;33m)\u001b[0m\u001b[1;33m\u001b[0m\u001b[1;33m\u001b[0m\u001b[0m\n\u001b[0m",
      "\u001b[1;31mAttributeError\u001b[0m: type object 'Student' has no attribute 'print_idcount'"
     ]
    }
   ],
   "source": [
    "Student.print_idcount()"
   ]
  },
  {
   "cell_type": "code",
   "execution_count": 20,
   "id": "ffd8179a",
   "metadata": {},
   "outputs": [],
   "source": [
    "# 클래스의 상속 inheritance\n",
    "# class 베이스클래스 이름 :\n",
    "#    코드\n",
    "#\n",
    "# class 파생클래스 이름(베이스클래스 이름) :\n",
    "#     코드\n"
   ]
  },
  {
   "cell_type": "code",
   "execution_count": 21,
   "id": "d7f3d9cc",
   "metadata": {},
   "outputs": [],
   "source": [
    "# 베이스 클래스\n",
    "class Person :\n",
    "    def greeting(self):\n",
    "        print(\"안녕하세요\")"
   ]
  },
  {
   "cell_type": "code",
   "execution_count": 22,
   "id": "7a140957",
   "metadata": {},
   "outputs": [],
   "source": [
    "class Student(Person) :\n",
    "    def study(self) :\n",
    "        print(\"열공하세요.\")"
   ]
  },
  {
   "cell_type": "code",
   "execution_count": 23,
   "id": "3e281e4e",
   "metadata": {},
   "outputs": [
    {
     "name": "stdout",
     "output_type": "stream",
     "text": [
      "안녕하세요\n"
     ]
    }
   ],
   "source": [
    "hong = Student()\n",
    "hong.greeting()"
   ]
  },
  {
   "cell_type": "code",
   "execution_count": null,
   "id": "cac4fb3a",
   "metadata": {},
   "outputs": [],
   "source": [
    "class Person :\n",
    "    def __init__(self) :\n",
    "        print(\"Person생성자 동작\")\n",
    "    def greeting(self):\n",
    "        print(\"안녕하세요\")"
   ]
  },
  {
   "cell_type": "code",
   "execution_count": 25,
   "id": "0374248e",
   "metadata": {},
   "outputs": [],
   "source": [
    "class Student(Person):\n",
    "    def __init__(self) :\n",
    "       # super().__init__()\n",
    "        print(\"Student 생성자 동작\")\n",
    "    def study(self):\n",
    "        print(\"열공하세요\")"
   ]
  },
  {
   "cell_type": "code",
   "execution_count": 29,
   "id": "7445748a",
   "metadata": {},
   "outputs": [],
   "source": [
    "h = Person()"
   ]
  },
  {
   "cell_type": "code",
   "execution_count": 31,
   "id": "a5088006",
   "metadata": {},
   "outputs": [
    {
     "name": "stdout",
     "output_type": "stream",
     "text": [
      "Student 생성자 동작\n",
      "안녕하세요\n"
     ]
    }
   ],
   "source": [
    "hong =Student()\n",
    "hong.greeting()"
   ]
  },
  {
   "cell_type": "code",
   "execution_count": null,
   "id": "9064cffa",
   "metadata": {},
   "outputs": [],
   "source": []
  }
 ],
 "metadata": {
  "kernelspec": {
   "display_name": "Python 3",
   "language": "python",
   "name": "python3"
  },
  "language_info": {
   "codemirror_mode": {
    "name": "ipython",
    "version": 3
   },
   "file_extension": ".py",
   "mimetype": "text/x-python",
   "name": "python",
   "nbconvert_exporter": "python",
   "pygments_lexer": "ipython3",
   "version": "3.8.8"
  }
 },
 "nbformat": 4,
 "nbformat_minor": 5
}
