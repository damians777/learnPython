{
 "cells": [
  {
   "cell_type": "code",
   "execution_count": 29,
   "id": "c8461ccd",
   "metadata": {},
   "outputs": [],
   "source": [
    "# DB(SQLite) 활용, GUI 어플리케이션을 제작한다.\n",
    "import sqlite3           # 이를 위해선 sqlite3 라는 모듈을 불러와야한다. 이건 파이썬 기본 내장 모듈이다.\n",
    "from tkinter import *      #tkinter에 있는 모든 모듈을 가져오라는 의미."
   ]
  },
  {
   "cell_type": "code",
   "execution_count": 34,
   "id": "928ad543",
   "metadata": {},
   "outputs": [],
   "source": [
    "def save() :\n",
    "    pass\n",
    "def reset() :\n",
    "    pass\n",
    "def search() :\n",
    "    pass"
   ]
  },
  {
   "cell_type": "code",
   "execution_count": 27,
   "id": "5e4ef763",
   "metadata": {},
   "outputs": [],
   "source": [
    "# GUI 프래그래밍이란?\n",
    "window = Tk()      # Tk 클래스의 생성자를 이용 윈도우 객체 생성  이 객체의 이름을 window라고 부르겠다는 의미.\n",
    "window.mainloop()    # 실행 후 창이 닫혀야 무한루프에 안 빠진다."
   ]
  },
  {
   "cell_type": "code",
   "execution_count": 39,
   "id": "ce853101",
   "metadata": {},
   "outputs": [],
   "source": [
    "window = Tk()    \n",
    "window.title(\"A\")\n",
    "window.geometry(\"500x400\")\n",
    "labelName = Label(text=\"Name : \")\n",
    "labelName.place(x=50, y=50)\n",
    "studentName = Entry(text=\"\")\n",
    "studentName.place(x=100, y=50, width=200, height=30)\n",
    "\n",
    "labelName = Label(text=\"Phone : \")\n",
    "labelName.place(x=50, y=100)\n",
    "studentName = Entry(text=\"\")\n",
    "studentName.place(x=100, y=50, width=200, height=30)\n",
    "\n",
    "\n",
    "btnSave = Button(text=\"Save\", command=\"save\")\n",
    "btnSave.place(x=80, y=150, width=80, height=30)\n",
    "\n",
    "btnSave = Button(text=\"Save\", command=\"reset\")\n",
    "btnSave.place(x=180, y=150, width=80, height=30)\n",
    "\n",
    "btnSave = Button(text=\"Save\", command=\"search\")\n",
    "btnSave.place(x=280, y=150, width=80, height=30)\n",
    "\n",
    "window.mainloop()  \n"
   ]
  },
  {
   "cell_type": "code",
   "execution_count": null,
   "id": "7febd9b4",
   "metadata": {},
   "outputs": [],
   "source": []
  }
 ],
 "metadata": {
  "kernelspec": {
   "display_name": "Python 3",
   "language": "python",
   "name": "python3"
  },
  "language_info": {
   "codemirror_mode": {
    "name": "ipython",
    "version": 3
   },
   "file_extension": ".py",
   "mimetype": "text/x-python",
   "name": "python",
   "nbconvert_exporter": "python",
   "pygments_lexer": "ipython3",
   "version": "3.8.8"
  }
 },
 "nbformat": 4,
 "nbformat_minor": 5
}
