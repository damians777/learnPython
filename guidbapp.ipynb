{
 "cells": [
  {
   "cell_type": "code",
   "execution_count": 14,
   "id": "74b06a86",
   "metadata": {},
   "outputs": [],
   "source": [
    "# DB(SQLite) 활용, GUI 어플리케이션을 제작한다.\n",
    "import sqlite3                 #sqlite3는 스마트폰에서도 사용한다.\n",
    "from tkinter import *"
   ]
  },
  {
   "cell_type": "code",
   "execution_count": 22,
   "id": "8529f45f",
   "metadata": {},
   "outputs": [],
   "source": [
    "# 필요로 하는 함수들 선언 , 일단 아래에서 폼 만든다음에 잠깐 pass로 나두고 차후에 제대로 함수 정의해준다.\n",
    "def save():\n",
    "    newname = studentName.get()\n",
    "    newphone = studentPhone.get()\n",
    "    cursor.execute(\"INSERT INTO table1(name, phone) VALUES(?,?)\", (newname, newphone))  # 이 구문은 공부를 더해야한다.\n",
    "    # 이 구문은 mysql 공부를 해야한다. \n",
    "    db.commit()\n",
    "    studentName.delete(0, END)\n",
    "    studentPhone.delete(0, END) # 자원을 반납한다.\n",
    "    studentName.focus() #자료입력을 기다림. 커서를 그대로 있게.\n",
    "def reset():\n",
    "    pass\n",
    "\n",
    "def search():\n",
    "    pass"
   ]
  },
  {
   "cell_type": "code",
   "execution_count": 26,
   "id": "163bf066",
   "metadata": {},
   "outputs": [
    {
     "ename": "SyntaxError",
     "evalue": "EOL while scanning string literal (<ipython-input-26-63bb2b4e4682>, line 9)",
     "output_type": "error",
     "traceback": [
      "\u001b[1;36m  File \u001b[1;32m\"<ipython-input-26-63bb2b4e4682>\"\u001b[1;36m, line \u001b[1;32m9\u001b[0m\n\u001b[1;33m    cursor.execute(\"CREATE TABLE IF NOT EXISTS table1(   \\               # \\를 치면 밑으로 줄바꿈하더라도 한줄로 인식한다.\u001b[0m\n\u001b[1;37m                                                                                                        ^\u001b[0m\n\u001b[1;31mSyntaxError\u001b[0m\u001b[1;31m:\u001b[0m EOL while scanning string literal\n"
     ]
    }
   ],
   "source": [
    "# 전체 프로그램의 시작부분\n",
    "# 데이터 베이스 연결  connect 메서드 이용한다. \n",
    "# 스트림 - 데이터베이스 입출력 과정 스트림 사용시 오류발생 가능성 있으므로 이를 예외처리상황을 만들어야 한다.\n",
    "with sqlite3.connect(\"test.db\", isolation_level=None) as db :\n",
    "    cursor =  db.cursor()\n",
    "   # 질의구문 SQL : 테이블이 존재하면 삭제\n",
    "    cursor.execute(\"DROP TABLE IF EXISTS table1\") \n",
    "   # 테이블1(아이디, 이름, 전화번호) 생성\n",
    "    cursor.execute(\"CREATE TABLE IF NOT EXISTS table1(    \\               # \\를 치면 밑으로 줄바꿈하더라도 한줄로 인식한다.  \n",
    "                   id INTEGER AUTO_INCREMENT PRIMARY KEY, \\\n",
    "                   name TEXT,                             \\\n",
    "                   phone TEXT)\")                        \n",
    "     "
   ]
  },
  {
   "cell_type": "code",
   "execution_count": 27,
   "id": "b28831ed",
   "metadata": {},
   "outputs": [],
   "source": [
    "# 이 셀부분부터 젤먼저 프로그램 시작.\n",
    "\n",
    "# GUI 프로그래밍이 뭐??\n",
    "window = Tk()   # Tk 클래스의 생성자를 이용, 윈도우 객체 생성\n",
    "window.title(\"GUI and DB Programming\")\n",
    "window.geometry(\"500x400\")\n",
    "\n",
    "labelName = Label(text=\"Name : \")\n",
    "labelName.place(x=50, y=50)\n",
    "studentName = Entry(text=\"\")\n",
    "studentName.place(x=100, y=50, width=200, height=30)\n",
    "\n",
    "labelPhone = Label(text=\"Phone : \")\n",
    "labelPhone.place(x=50, y=100)\n",
    "studentPhone = Entry(text=\"\")\n",
    "studentPhone.place(x=100, y=100, width=200, height=30)\n",
    "\n",
    "btnSave = Button(text=\"Save\", command=save)  # command 처리는 문자열로 하면 안됨. \n",
    "btnSave.place(x=80, y=150, width=80, height=30)\n",
    "\n",
    "btnReset = Button(text=\"Reset\", command=reset)\n",
    "btnReset.place(x=180, y=150, width=80, height=30)\n",
    "\n",
    "btnSearch = Button(text=\"Search\", command=search)\n",
    "btnSearch.place(x=280, y=150, width=80, height=30)\n",
    "\n",
    "window.mainloop()"
   ]
  },
  {
   "cell_type": "code",
   "execution_count": null,
   "id": "97a9556b",
   "metadata": {},
   "outputs": [],
   "source": [
    "# 이렇게 단계적으로 셀을 나누는건 설명을 위한거고 원래로 한개의 파일로서 단일하게 짜야하는 거다.\n",
    "# 한개의 셀에 합치는건 다음에 배우기로 한다."
   ]
  },
  {
   "cell_type": "code",
   "execution_count": null,
   "id": "eb5b85de",
   "metadata": {},
   "outputs": [],
   "source": []
  }
 ],
 "metadata": {
  "kernelspec": {
   "display_name": "Python 3",
   "language": "python",
   "name": "python3"
  },
  "language_info": {
   "codemirror_mode": {
    "name": "ipython",
    "version": 3
   },
   "file_extension": ".py",
   "mimetype": "text/x-python",
   "name": "python",
   "nbconvert_exporter": "python",
   "pygments_lexer": "ipython3",
   "version": "3.8.8"
  }
 },
 "nbformat": 4,
 "nbformat_minor": 5
}
