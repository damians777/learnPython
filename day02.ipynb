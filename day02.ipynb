{
 "cells": [
  {
   "cell_type": "code",
   "execution_count": 1,
   "id": "81478f6b",
   "metadata": {},
   "outputs": [],
   "source": [
    "# markdown : esc +m\n",
    "# code : esc + y"
   ]
  },
  {
   "cell_type": "markdown",
   "id": "0fe000a1",
   "metadata": {},
   "source": [
    "# Unit 4 기본문법 알아보기\n",
    "## 4.1 세미콜론\n",
    "파이썬은 구문이 끝날 때 세미콜론을 붙이지 않는다.  \n",
    "보통 한 줄에 여러 문장을 사용할 때 세미콜론으로 구분한다.\n",
    "\n",
    "스페이스바로 두칸 뛰면 문장이 아래로 내려간다."
   ]
  },
  {
   "cell_type": "code",
   "execution_count": 4,
   "id": "82db5149",
   "metadata": {},
   "outputs": [
    {
     "name": "stdout",
     "output_type": "stream",
     "text": [
      "python\n",
      "hello\n",
      "funny learn python\n"
     ]
    }
   ],
   "source": [
    "print('python'); print('hello'); print('funny learn python')"
   ]
  },
  {
   "cell_type": "markdown",
   "id": "16374822",
   "metadata": {},
   "source": [
    "## 4.2 주석\n",
    "### 4.2.1 한 줄 주석\n",
    "한 줄 주석은 # 기호 하나로 적어준다. 위치는 어디건 상관없고 # 기호 이후의 부분은 설명문으로 간주한다."
   ]
  },
  {
   "cell_type": "code",
   "execution_count": 5,
   "id": "f8cc4d98",
   "metadata": {},
   "outputs": [],
   "source": [
    "# print('hello python')"
   ]
  },
  {
   "cell_type": "code",
   "execution_count": 6,
   "id": "df4ab677",
   "metadata": {},
   "outputs": [
    {
     "name": "stdout",
     "output_type": "stream",
     "text": [
      "hello python\n"
     ]
    }
   ],
   "source": [
    "print('hello python')  # 이 문장은 hello python을 화면에 출력한다."
   ]
  },
  {
   "cell_type": "markdown",
   "id": "35a503ab",
   "metadata": {},
   "source": [
    "### 4.2.2 블록주석\n",
    "블록 주석은 각 줄마다 #을 넣어준다."
   ]
  },
  {
   "cell_type": "code",
   "execution_count": 7,
   "id": "aa88e007",
   "metadata": {},
   "outputs": [],
   "source": [
    "# print('hello python')\n",
    "# print('1234560')"
   ]
  },
  {
   "cell_type": "markdown",
   "id": "25ed076a",
   "metadata": {},
   "source": [
    "### 4.2.3 multiline comment\n",
    "여러 라인에 걸쳐 주석 또는 설명을 적고자 할 때는 큰따옴표 세개를 연속해서 \"\"\" 사용한다."
   ]
  },
  {
   "cell_type": "code",
   "execution_count": 10,
   "id": "e147958f",
   "metadata": {},
   "outputs": [
    {
     "name": "stdout",
     "output_type": "stream",
     "text": [
      "hello korea\n"
     ]
    },
    {
     "data": {
      "text/plain": [
       "'\\n이것은 여러 라인에 걸친 주석으로 \\n보통 세줄 이상의 텍스트 형태로\\n많은 설명을 적어야 할 때 사용합니다.\\n등등등\\n\\n'"
      ]
     },
     "execution_count": 10,
     "metadata": {},
     "output_type": "execute_result"
    }
   ],
   "source": [
    "print('hello korea')\n",
    "\n",
    "\"\"\"\n",
    "이것은 여러 라인에 걸친 주석으로 \n",
    "보통 세줄 이상의 텍스트 형태로\n",
    "많은 설명을 적어야 할 때 사용합니다.\n",
    "등등등\n",
    "\n",
    "\"\"\""
   ]
  },
  {
   "cell_type": "markdown",
   "id": "bd111771",
   "metadata": {},
   "source": [
    "## 4.3 들여쓰기\n",
    "\n",
    "indentation 코드를 읽기 쉽도록 일정한 간격을 띄워서 작성하는 방법.\n",
    "if a>b :   \n",
    "    print(\"a는 b보다 크다\")\n",
    "else:  \n",
    "    print(\"a는 b보다 크다\")\n",
    "   \n",
    "  \n",
    "C, C++ java 와 같은 언어에서 들여쓰기는 단지 권고사항일 뿐이지만 python에서는 들여쓰기가  \n",
    "**반드시 지켜야 하는 문법사항**이다. (** 앞뒤로 쓰면 진하게 글자 나옴)\n",
    "\n"
   ]
  },
  {
   "cell_type": "markdown",
   "id": "f1550e92",
   "metadata": {},
   "source": [
    "## 4.4 코드블록\n",
    "특정한 동작을 위해서 코드가 모여 있는 상태를 뜻하며, 파이썬은 들여쓰기를 기준으로 코드 블록을 구성한다.\n",
    "{     } 다른 언어에서는 이 중괄호를 사용한다.\n",
    "\n",
    "**단, 같은 블록은 들여쓰기 칸 수가 같아야 하고, 공백과 탭 문자를 섞어 쓰면 안된다.\n"
   ]
  },
  {
   "cell_type": "markdown",
   "id": "12cbd517",
   "metadata": {},
   "source": [
    "---\n",
    "# unit 5. 숫자계산하기"
   ]
  },
  {
   "cell_type": "markdown",
   "id": "79d92082",
   "metadata": {},
   "source": [
    "참고사항 \n",
    "data : 처리하고자 하는 대상  \n",
    "    숫자(정수, 실수, 복소수), 문자열, 멀티미디어 \n",
    "    c, c++, java와 같은 일반적 프로그램 언어에서는  \n",
    "    문자 : 글자 하나로 'a'\n",
    "    문자열 : 두글자 이상 'abc'      \n",
    "    \n",
    "    복소수 지원이 다른 언어에는 없지만 파이썬엔 있다.\n",
    "    \n",
    "program : 처리하는 방법 (다른 말로는 process)\n",
    "\n",
    "\n",
    "variable (변수) : 데이터를 보관하는 기억 장소 이를 칭하는 이름"
   ]
  },
  {
   "cell_type": "code",
   "execution_count": 35,
   "id": "1ba5fc64",
   "metadata": {},
   "outputs": [],
   "source": [
    "numberA = 10      # 정수형 데이터 10을 변수 numberA에 대입연사자(= 등호 기호)를 이용하여 할당assign하였다. 라고 표현함.\n",
    "numberB = 3.141592\n",
    "numberC = 5+4j\n",
    "strA = 'A'\n",
    "strB = \"KOREA\"  # 파이썬에선 작은 , 큰 따옴표 구분 않는다.\n",
    "boolA = True # boolean type : True, False 두 가지 정보만 표현할 수 있는 데이터 타입\n",
    "boolB = False\n"
   ]
  },
  {
   "cell_type": "markdown",
   "id": "0fc768da",
   "metadata": {},
   "source": [
    "쉬프트 + 콘트롤 + 마이너스 하면 셀을 나눈다. "
   ]
  },
  {
   "cell_type": "code",
   "execution_count": 36,
   "id": "8febc6b8",
   "metadata": {},
   "outputs": [
    {
     "name": "stdout",
     "output_type": "stream",
     "text": [
      "<class 'int'>\n",
      "<class 'float'>\n",
      "<class 'complex'>\n",
      "<class 'str'>\n",
      "<class 'str'>\n",
      "<class 'bool'>\n",
      "<class 'bool'>\n"
     ]
    }
   ],
   "source": [
    "print(type(numberA))\n",
    "print(type(numberB))\n",
    "print(type(numberC))\n",
    "print(type(strA))\n",
    "print(type(strB))\n",
    "print(type(boolA))\n",
    "print(type(boolB))"
   ]
  },
  {
   "cell_type": "code",
   "execution_count": 30,
   "id": "2de5cd7c",
   "metadata": {},
   "outputs": [
    {
     "data": {
      "text/plain": [
       "str"
      ]
     },
     "execution_count": 30,
     "metadata": {},
     "output_type": "execute_result"
    }
   ],
   "source": [
    "type(\"100.1234 + 3j\")"
   ]
  },
  {
   "cell_type": "code",
   "execution_count": 32,
   "id": "99fc558c",
   "metadata": {},
   "outputs": [
    {
     "data": {
      "text/plain": [
       "2"
      ]
     },
     "execution_count": 32,
     "metadata": {},
     "output_type": "execute_result"
    }
   ],
   "source": [
    "1+1"
   ]
  },
  {
   "cell_type": "code",
   "execution_count": 38,
   "id": "fd394aaa",
   "metadata": {},
   "outputs": [
    {
     "name": "stdout",
     "output_type": "stream",
     "text": [
      "1.6666666666666667\n",
      "1\n",
      "2\n",
      "125\n"
     ]
    }
   ],
   "source": [
    "# 연산자operater (예+)연산의 대상을 피연산자라고 하고 이를 operand 라고 한다.\n",
    "# 파이썬에서 산술연산지 \n",
    "print(5 / 3) # 5를 3으로 나눈 결과\n",
    "print(5 // 3) # 5를 3으로 나눈 몫\n",
    "print(5 % 3) # 5를 3으로 나누었을때의 나머지\n",
    "print(5 ** 3) # operator 앞뒤로 공백을 띄워주는게 좋다. 가독성을 높이기 위해"
   ]
  },
  {
   "cell_type": "code",
   "execution_count": 43,
   "id": "06d7b06d",
   "metadata": {},
   "outputs": [
    {
     "name": "stdout",
     "output_type": "stream",
     "text": [
      "<class 'int'>\n",
      "<class 'float'>\n",
      "<class 'int'>\n",
      "<class 'float'>\n"
     ]
    }
   ],
   "source": [
    "# 형변화 type conversion : \n",
    "# 임의 데이터 (연산의 결과) 타입을 원하는 데이터 타입으로 변환\n",
    "print(type(int(3.14)))\n",
    "print(type(3.14))\n",
    "print(type(100))\n",
    "print(type(float(100)))\n"
   ]
  },
  {
   "cell_type": "code",
   "execution_count": 45,
   "id": "20036aa4",
   "metadata": {},
   "outputs": [
    {
     "name": "stdout",
     "output_type": "stream",
     "text": [
      "['False', 'None', 'True', 'and', 'as', 'assert', 'async', 'await', 'break', 'class', 'continue', 'def', 'del', 'elif', 'else', 'except', 'finally', 'for', 'from', 'global', 'if', 'import', 'in', 'is', 'lambda', 'nonlocal', 'not', 'or', 'pass', 'raise', 'return', 'try', 'while', 'with', 'yield']\n"
     ]
    }
   ],
   "source": [
    "import keyword\n",
    "print(keyword.kwlist)   # 아래는 변수로 사용하면 안됨."
   ]
  },
  {
   "cell_type": "code",
   "execution_count": 49,
   "id": "43b565be",
   "metadata": {},
   "outputs": [],
   "source": [
    "a, b, c = 10, 20, 30"
   ]
  },
  {
   "cell_type": "code",
   "execution_count": 50,
   "id": "55054053",
   "metadata": {},
   "outputs": [],
   "source": [
    "# 복합대입연산자\n",
    "# 산술연산자 모두 적용\n",
    "a = 10\n",
    "a = a + 20   # a += 20   , (a를 한번 더 쓰기 싫어서)\n",
    "a  *= 3  # a = a*3 이라는 뜻\n",
    "# 증감연산자\n",
    "a = a + 1  # a++, a--\n",
    "\n",
    "\n",
    "\n"
   ]
  },
  {
   "cell_type": "code",
   "execution_count": 51,
   "id": "53cf7fdd",
   "metadata": {},
   "outputs": [
    {
     "name": "stdout",
     "output_type": "stream",
     "text": [
      "korea\n",
      "1 2 3\n"
     ]
    }
   ],
   "source": [
    "# 입력함수 input()\n",
    "print(\"korea\")\n",
    "print(1,2,3)"
   ]
  },
  {
   "cell_type": "code",
   "execution_count": 4,
   "id": "f92ca596",
   "metadata": {},
   "outputs": [
    {
     "name": "stdout",
     "output_type": "stream",
     "text": [
      "생년을 입력하세요 : 2001\n",
      "2001년\n",
      "당신의 나이는 20살이군요...\n"
     ]
    }
   ],
   "source": [
    "birthYear = input(\"생년을 입력하세요 : \")\n",
    "birthYear = int(birthYear) # input()로 받은 데이터는 문자열이기 때문에 형변환\n",
    "print(str(birthYear)+\"년\") # print()함수에서 + 는 문자열과 문자열을 결합.\n",
    "# +는 양쪽이 같은 형식이어야 한다.\n",
    "age = 2021 - birthYear\n",
    "print(\"당신의 나이는 \" + str(age) + \"살이군요...\")"
   ]
  },
  {
   "cell_type": "code",
   "execution_count": null,
   "id": "0fa85610",
   "metadata": {},
   "outputs": [],
   "source": [
    "# print(\"korea\")  korea : 파라미터 인수 인자 arguments\n",
    "a, b = input(\"2개의 숫자를 입력하세요. \"). split(',')  \n",
    "# 문자나 숫자를 나눠 인식하는것, 아무것도 괄호 안에 안 쓰면 공백으로 인식한다는 의미  \n",
    "# 문자열을 특정한 기호를 기준으로 나눌 수 있다.\n",
    "print(a, b)"
   ]
  },
  {
   "cell_type": "code",
   "execution_count": 2,
   "id": "4f720754",
   "metadata": {},
   "outputs": [
    {
     "name": "stdout",
     "output_type": "stream",
     "text": [
      "2개의 숫자를 입력하세요10 20\n",
      "30\n"
     ]
    }
   ],
   "source": [
    "a, b = map(int, input(\"2개의 숫자를 입력하세요\").    split())\n",
    "print(a+b)"
   ]
  },
  {
   "cell_type": "code",
   "execution_count": 5,
   "id": "98ffb1d5",
   "metadata": {
    "scrolled": true
   },
   "outputs": [
    {
     "name": "stdout",
     "output_type": "stream",
     "text": [
      "10;20;korea\n",
      "10....20\n"
     ]
    }
   ],
   "source": [
    "print(a, b, \"korea\", sep=';')  # 구분자를 세미콜론으로 찍어라 라는 의미\n",
    "print(a, end=\"....\")  #  \\n  줄 바꿈 하라는 의미\n",
    "print(b)"
   ]
  },
  {
   "cell_type": "code",
   "execution_count": 6,
   "id": "e9e7d42c",
   "metadata": {},
   "outputs": [
    {
     "data": {
      "text/plain": [
       "True"
      ]
     },
     "execution_count": 6,
     "metadata": {},
     "output_type": "execute_result"
    }
   ],
   "source": [
    "10>5"
   ]
  },
  {
   "cell_type": "code",
   "execution_count": 14,
   "id": "1c61b75d",
   "metadata": {},
   "outputs": [],
   "source": [
    "# 관계연산자 : >, <, <=, >=, == !=\n",
    "# 논리연산자 : and, or, not"
   ]
  },
  {
   "cell_type": "code",
   "execution_count": 12,
   "id": "f347bd7e",
   "metadata": {},
   "outputs": [
    {
     "data": {
      "text/plain": [
       "True"
      ]
     },
     "execution_count": 12,
     "metadata": {},
     "output_type": "execute_result"
    }
   ],
   "source": [
    "1 == 1.0"
   ]
  },
  {
   "cell_type": "code",
   "execution_count": 13,
   "id": "5ad8d87e",
   "metadata": {},
   "outputs": [
    {
     "name": "stderr",
     "output_type": "stream",
     "text": [
      "<>:1: SyntaxWarning: \"is\" with a literal. Did you mean \"==\"?\n",
      "<>:1: SyntaxWarning: \"is\" with a literal. Did you mean \"==\"?\n",
      "<ipython-input-13-2ebf4c947f31>:1: SyntaxWarning: \"is\" with a literal. Did you mean \"==\"?\n",
      "  1 is 1.0\n"
     ]
    },
    {
     "data": {
      "text/plain": [
       "False"
      ]
     },
     "execution_count": 13,
     "metadata": {},
     "output_type": "execute_result"
    }
   ],
   "source": [
    "1 is 1.0"
   ]
  },
  {
   "cell_type": "code",
   "execution_count": null,
   "id": "605f2fe1",
   "metadata": {},
   "outputs": [],
   "source": []
  }
 ],
 "metadata": {
  "kernelspec": {
   "display_name": "Python 3",
   "language": "python",
   "name": "python3"
  },
  "language_info": {
   "codemirror_mode": {
    "name": "ipython",
    "version": 3
   },
   "file_extension": ".py",
   "mimetype": "text/x-python",
   "name": "python",
   "nbconvert_exporter": "python",
   "pygments_lexer": "ipython3",
   "version": "3.8.8"
  }
 },
 "nbformat": 4,
 "nbformat_minor": 5
}
