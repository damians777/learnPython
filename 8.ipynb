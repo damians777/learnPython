{
 "cells": [
  {
   "cell_type": "code",
   "execution_count": null,
   "id": "d70859c9",
   "metadata": {},
   "outputs": [],
   "source": [
    "# 클래스의 인스턴스 속성 정의 \n",
    "# class 클래스이름 :\n",
    "#     def __생성자() :\n",
    "#         속성 = \n",
    "    \n",
    "# 클래스의 클래스 속성 정의\n",
    "# class 클래스이름:\n",
    "#     속성 = \n",
    "#     def __생성() :\n",
    "#          속성 = \n"
   ]
  },
  {
   "cell_type": "code",
   "execution_count": 3,
   "id": "7b3ec876",
   "metadata": {},
   "outputs": [
    {
     "name": "stdout",
     "output_type": "stream",
     "text": [
      "제임스의 가방 :  ['책', '열쇠']\n",
      "마리아의 가방 :  ['책', '열쇠']\n"
     ]
    }
   ],
   "source": [
    "# Person class 정의\n",
    "class Person:\n",
    "    bag = []        # 클래스 속성\n",
    "    \n",
    "    def put_bag(self, stuff):\n",
    "        self.bag.append(stuff)\n",
    "        \n",
    "#---\n",
    "# Person 클랫의 객체 생성 instantiate\n",
    "james = Person()\n",
    "maria = Person()\n",
    "\n",
    "# 각 객체의 메서드 호출, 각자의 가방에 물건을 넣는다.\n",
    "james.put_bag(\"책\")\n",
    "maria.put_bag(\"열쇠\")\n",
    "\n",
    "# 확인....\n",
    "print(\"제임스의 가방 : \", james.bag)\n",
    "print(\"마리아의 가방 : \", maria.bag)"
   ]
  },
  {
   "cell_type": "code",
   "execution_count": 5,
   "id": "d3230a9a",
   "metadata": {},
   "outputs": [
    {
     "name": "stdout",
     "output_type": "stream",
     "text": [
      "제임스의 가방 :  ['책']\n",
      "마리아의 가방 :  ['열쇠']\n"
     ]
    }
   ],
   "source": [
    "# Person2 class 정의\n",
    "class Person2:\n",
    "    \n",
    "    def __init__(self):\n",
    "        self.bag = []          # 인스턴스 속성\n",
    "        \n",
    "        \n",
    "    def put_bag(self, stuff):\n",
    "        self.bag.append(stuff)\n",
    "        \n",
    "#---\n",
    "# Person2 클래스의 객체 생성 instantiate\n",
    "james = Person2()\n",
    "maria = Person2()\n",
    "\n",
    "# 각 객체의 메서드 호출, 각자의 가방에 물건을 넣는다.\n",
    "james.put_bag(\"책\")\n",
    "maria.put_bag(\"열쇠\")\n",
    "\n",
    "# 확인....\n",
    "print(\"제임스의 가방 : \", james.bag)\n",
    "print(\"마리아의 가방 : \", maria.bag)"
   ]
  },
  {
   "cell_type": "code",
   "execution_count": 11,
   "id": "605bcf06",
   "metadata": {},
   "outputs": [],
   "source": [
    "# 클래스 속성 활용 예\n",
    "# 학생 클래스를 생성하며, 학번을 1씩 증가하며 자동 부여가 되도록.\n",
    "\n",
    "class Student:\n",
    "    idcnt = 1000   # 클래스 속성\n",
    "    \n",
    "    def __init__(self, name):\n",
    "        Student.idcnt += 1\n",
    "        self.id = Student.idcnt\n",
    "        self.name = name\n",
    "        \n",
    "    def showinfo(self):\n",
    "        print(\"id : \", self.id, \"name: \", self.name)        \n",
    "        \n",
    "    @classmethod\n",
    "    def print_idcount(cls):\n",
    "        print('공통변수 idcnt ={0}'.format(cls.idcnt))"
   ]
  },
  {
   "cell_type": "code",
   "execution_count": 12,
   "id": "6ec900ed",
   "metadata": {},
   "outputs": [
    {
     "name": "stdout",
     "output_type": "stream",
     "text": [
      "공통변수 idcnt =1000\n",
      "공통변수 idcnt =1001\n",
      "id :  1001 name:  홍길동\n"
     ]
    }
   ],
   "source": [
    "Student.print_idcount()\n",
    "hong = Student(\"홍길동\")\n",
    "Student.print_idcount()\n",
    "hong.showinfo()   "
   ]
  },
  {
   "cell_type": "code",
   "execution_count": 13,
   "id": "1627e72e",
   "metadata": {},
   "outputs": [
    {
     "name": "stdout",
     "output_type": "stream",
     "text": [
      "공통변수 idcnt =1002\n",
      "id :  1002 name:  박문수\n"
     ]
    }
   ],
   "source": [
    "park = Student(\"박문수\")\n",
    "Student.print_idcount()\n",
    "park.showinfo()"
   ]
  },
  {
   "cell_type": "code",
   "execution_count": 14,
   "id": "86e37c8c",
   "metadata": {},
   "outputs": [
    {
     "name": "stdout",
     "output_type": "stream",
     "text": [
      "1002\n"
     ]
    }
   ],
   "source": [
    "print(hong.idcnt)"
   ]
  },
  {
   "cell_type": "code",
   "execution_count": 15,
   "id": "c7d06ce8",
   "metadata": {},
   "outputs": [
    {
     "name": "stdout",
     "output_type": "stream",
     "text": [
      "1002\n"
     ]
    }
   ],
   "source": [
    "print(park.idcnt)"
   ]
  },
  {
   "cell_type": "code",
   "execution_count": 16,
   "id": "7e85acdf",
   "metadata": {},
   "outputs": [],
   "source": [
    "hong.idcnt = hong.idcnt + 100"
   ]
  },
  {
   "cell_type": "code",
   "execution_count": 17,
   "id": "1e8d41d0",
   "metadata": {},
   "outputs": [
    {
     "name": "stdout",
     "output_type": "stream",
     "text": [
      "1102\n"
     ]
    }
   ],
   "source": [
    "print(hong.idcnt)"
   ]
  },
  {
   "cell_type": "code",
   "execution_count": 18,
   "id": "c1865638",
   "metadata": {},
   "outputs": [
    {
     "name": "stdout",
     "output_type": "stream",
     "text": [
      "1002\n"
     ]
    }
   ],
   "source": [
    "print(park.idcnt)"
   ]
  },
  {
   "cell_type": "code",
   "execution_count": 19,
   "id": "e04d3de5",
   "metadata": {},
   "outputs": [
    {
     "name": "stdout",
     "output_type": "stream",
     "text": [
      "공통변수 idcnt =1002\n"
     ]
    }
   ],
   "source": [
    "Student.print_idcount()"
   ]
  },
  {
   "cell_type": "code",
   "execution_count": null,
   "id": "c00cfa60",
   "metadata": {},
   "outputs": [],
   "source": [
    "# 클래스의 상속 inheritance\n",
    "# class 베이스클래스이름:\n",
    "#     코드\n",
    "# \n",
    "# class 파생클래스이름(베이스클래스이름):\n",
    "#      코드\n",
    "\n"
   ]
  },
  {
   "cell_type": "code",
   "execution_count": 7,
   "id": "160f515e",
   "metadata": {},
   "outputs": [],
   "source": [
    "# 베이스클래스\n",
    "class Person:\n",
    "    def __init__(self):\n",
    "        print(\"Person생성자 동작...\")\n",
    "        \n",
    "    def greeting(self):\n",
    "        print(\"안녕하세요~~\")"
   ]
  },
  {
   "cell_type": "code",
   "execution_count": 13,
   "id": "eb21539f",
   "metadata": {},
   "outputs": [],
   "source": [
    "# 파생클래스\n",
    "class Student(Person):\n",
    "    def __init__(self):\n",
    "        super().__init__();\n",
    "        print(\"Student 생성자 동작...\")\n",
    "        \n",
    "    def study(self):\n",
    "        print(\"열심히 공부해요...\")\n",
    "        \n",
    "    def greeting(self):\n",
    "        print(\"^^ 안녕하세요~~\")"
   ]
  },
  {
   "cell_type": "code",
   "execution_count": 10,
   "id": "8f5fc1bd",
   "metadata": {},
   "outputs": [
    {
     "name": "stdout",
     "output_type": "stream",
     "text": [
      "Person생성자 동작...\n"
     ]
    }
   ],
   "source": [
    "h = Person()"
   ]
  },
  {
   "cell_type": "code",
   "execution_count": 14,
   "id": "7dd855b5",
   "metadata": {},
   "outputs": [
    {
     "name": "stdout",
     "output_type": "stream",
     "text": [
      "Person생성자 동작...\n",
      "Student 생성자 동작...\n",
      "^^ 안녕하세요~~\n"
     ]
    }
   ],
   "source": [
    "hong = Student()\n",
    "hong.greeting()"
   ]
  },
  {
   "cell_type": "code",
   "execution_count": 15,
   "id": "726035af",
   "metadata": {},
   "outputs": [
    {
     "ename": "ZeroDivisionError",
     "evalue": "division by zero",
     "output_type": "error",
     "traceback": [
      "\u001b[1;31m---------------------------------------------------------------------------\u001b[0m",
      "\u001b[1;31mZeroDivisionError\u001b[0m                         Traceback (most recent call last)",
      "\u001b[1;32m<ipython-input-15-cd759d3fcf39>\u001b[0m in \u001b[0;36m<module>\u001b[1;34m\u001b[0m\n\u001b[1;32m----> 1\u001b[1;33m \u001b[1;36m10\u001b[0m \u001b[1;33m/\u001b[0m \u001b[1;36m0\u001b[0m\u001b[1;33m\u001b[0m\u001b[1;33m\u001b[0m\u001b[0m\n\u001b[0m",
      "\u001b[1;31mZeroDivisionError\u001b[0m: division by zero"
     ]
    }
   ],
   "source": [
    "10 / 0"
   ]
  },
  {
   "cell_type": "code",
   "execution_count": 18,
   "id": "1e16696f",
   "metadata": {},
   "outputs": [
    {
     "name": "stdout",
     "output_type": "stream",
     "text": [
      "0으로 나누는 오류 발생\n",
      "프로그램 정상 종료...\n"
     ]
    }
   ],
   "source": [
    "try:\n",
    "    10/0\n",
    "except ZeroDivisionError:\n",
    "    print(\"0으로 나누는 오류 발생\")\n",
    "print(\"프로그램 정상 종료...\")"
   ]
  },
  {
   "cell_type": "code",
   "execution_count": null,
   "id": "9eaebde5",
   "metadata": {},
   "outputs": [],
   "source": []
  }
 ],
 "metadata": {
  "kernelspec": {
   "display_name": "Python 3",
   "language": "python",
   "name": "python3"
  },
  "language_info": {
   "codemirror_mode": {
    "name": "ipython",
    "version": 3
   },
   "file_extension": ".py",
   "mimetype": "text/x-python",
   "name": "python",
   "nbconvert_exporter": "python",
   "pygments_lexer": "ipython3",
   "version": "3.8.8"
  }
 },
 "nbformat": 4,
 "nbformat_minor": 5
}
